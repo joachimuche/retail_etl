{
 "cells": [
  {
   "cell_type": "code",
   "execution_count": 2,
   "metadata": {},
   "outputs": [],
   "source": [
    "import pandas as pd\n",
    "import matplotlib.pyplot as plt\n",
    "import seaborn as sns"
   ]
  },
  {
   "cell_type": "code",
   "execution_count": 3,
   "metadata": {},
   "outputs": [
    {
     "name": "stdout",
     "output_type": "stream",
     "text": [
      "<class 'pandas.core.frame.DataFrame'>\n",
      "RangeIndex: 2046 entries, 0 to 2045\n",
      "Data columns (total 9 columns):\n",
      "Unnamed: 0        2046 non-null int64\n",
      "Order Channel     2046 non-null object\n",
      "Quantity          2046 non-null float64\n",
      "Unit Price        2046 non-null float64\n",
      "Customer Type     2046 non-null object\n",
      "Category Group    2046 non-null object\n",
      "shippingStatus    2046 non-null object\n",
      "Category          2046 non-null object\n",
      "Delivery Date     2046 non-null object\n",
      "dtypes: float64(2), int64(1), object(6)\n",
      "memory usage: 144.0+ KB\n"
     ]
    }
   ],
   "source": [
    "df = pd.read_csv('extractedData/clean_data.csv')\n",
    "df.info()"
   ]
  },
  {
   "cell_type": "code",
   "execution_count": 5,
   "metadata": {},
   "outputs": [
    {
     "name": "stdout",
     "output_type": "stream",
     "text": [
      "<class 'pandas.core.frame.DataFrame'>\n",
      "RangeIndex: 2046 entries, 0 to 2045\n",
      "Data columns (total 10 columns):\n",
      "Unnamed: 0        2046 non-null int64\n",
      "Order Channel     2046 non-null object\n",
      "Quantity          2046 non-null float64\n",
      "Unit Price        2046 non-null float64\n",
      "Customer Type     2046 non-null object\n",
      "Category Group    2046 non-null object\n",
      "shippingStatus    2046 non-null object\n",
      "Category          2046 non-null object\n",
      "Delivery Date     2046 non-null object\n",
      "Total_txn         2046 non-null float64\n",
      "dtypes: float64(3), int64(1), object(6)\n",
      "memory usage: 160.0+ KB\n"
     ]
    }
   ],
   "source": [
    "df['Total_txn'] = df['Quantity'] * df['Unit Price']\n",
    "#df['Delivery Date'] = pd.to_datetime(df['Delivery Date'])\n",
    "df.info()"
   ]
  },
  {
   "cell_type": "code",
   "execution_count": 6,
   "metadata": {},
   "outputs": [
    {
     "data": {
      "text/html": [
       "<div>\n",
       "<style scoped>\n",
       "    .dataframe tbody tr th:only-of-type {\n",
       "        vertical-align: middle;\n",
       "    }\n",
       "\n",
       "    .dataframe tbody tr th {\n",
       "        vertical-align: top;\n",
       "    }\n",
       "\n",
       "    .dataframe thead th {\n",
       "        text-align: right;\n",
       "    }\n",
       "</style>\n",
       "<table border=\"1\" class=\"dataframe\">\n",
       "  <thead>\n",
       "    <tr style=\"text-align: right;\">\n",
       "      <th></th>\n",
       "      <th>Unnamed: 0</th>\n",
       "      <th>Order Channel</th>\n",
       "      <th>Quantity</th>\n",
       "      <th>Unit Price</th>\n",
       "      <th>Customer Type</th>\n",
       "      <th>Category Group</th>\n",
       "      <th>shippingStatus</th>\n",
       "      <th>Category</th>\n",
       "      <th>Delivery Date</th>\n",
       "      <th>Total_txn</th>\n",
       "    </tr>\n",
       "  </thead>\n",
       "  <tbody>\n",
       "    <tr>\n",
       "      <th>0</th>\n",
       "      <td>0</td>\n",
       "      <td>Mobile App</td>\n",
       "      <td>2.0</td>\n",
       "      <td>7000.0</td>\n",
       "      <td>General Trade</td>\n",
       "      <td>Baby</td>\n",
       "      <td>delivered</td>\n",
       "      <td>Infant Care</td>\n",
       "      <td>2020-12-02 12:01:00</td>\n",
       "      <td>14000.0</td>\n",
       "    </tr>\n",
       "    <tr>\n",
       "      <th>1</th>\n",
       "      <td>1</td>\n",
       "      <td>Mobile App</td>\n",
       "      <td>1.0</td>\n",
       "      <td>7000.0</td>\n",
       "      <td>General Trade</td>\n",
       "      <td>Baby</td>\n",
       "      <td>delivered</td>\n",
       "      <td>Infant Care</td>\n",
       "      <td>2020-12-02 12:01:00</td>\n",
       "      <td>7000.0</td>\n",
       "    </tr>\n",
       "    <tr>\n",
       "      <th>2</th>\n",
       "      <td>2</td>\n",
       "      <td>Mobile App</td>\n",
       "      <td>1.0</td>\n",
       "      <td>7000.0</td>\n",
       "      <td>General Trade</td>\n",
       "      <td>Baby</td>\n",
       "      <td>delivered</td>\n",
       "      <td>Infant Care</td>\n",
       "      <td>2020-12-02 12:01:00</td>\n",
       "      <td>7000.0</td>\n",
       "    </tr>\n",
       "    <tr>\n",
       "      <th>3</th>\n",
       "      <td>3</td>\n",
       "      <td>Whatsapp</td>\n",
       "      <td>1.0</td>\n",
       "      <td>7000.0</td>\n",
       "      <td>General Trade</td>\n",
       "      <td>Baby</td>\n",
       "      <td>delivered</td>\n",
       "      <td>Infant Care</td>\n",
       "      <td>2020-12-02 12:08:00</td>\n",
       "      <td>7000.0</td>\n",
       "    </tr>\n",
       "    <tr>\n",
       "      <th>4</th>\n",
       "      <td>4</td>\n",
       "      <td>Whatsapp</td>\n",
       "      <td>1.0</td>\n",
       "      <td>7000.0</td>\n",
       "      <td>General Trade</td>\n",
       "      <td>Baby</td>\n",
       "      <td>delivered</td>\n",
       "      <td>Infant Care</td>\n",
       "      <td>2020-12-02 12:08:00</td>\n",
       "      <td>7000.0</td>\n",
       "    </tr>\n",
       "  </tbody>\n",
       "</table>\n",
       "</div>"
      ],
      "text/plain": [
       "   Unnamed: 0 Order Channel  Quantity  Unit Price  Customer Type  \\\n",
       "0           0    Mobile App       2.0      7000.0  General Trade   \n",
       "1           1    Mobile App       1.0      7000.0  General Trade   \n",
       "2           2    Mobile App       1.0      7000.0  General Trade   \n",
       "3           3      Whatsapp       1.0      7000.0  General Trade   \n",
       "4           4      Whatsapp       1.0      7000.0  General Trade   \n",
       "\n",
       "  Category Group shippingStatus     Category        Delivery Date  Total_txn  \n",
       "0           Baby      delivered  Infant Care  2020-12-02 12:01:00    14000.0  \n",
       "1           Baby      delivered  Infant Care  2020-12-02 12:01:00     7000.0  \n",
       "2           Baby      delivered  Infant Care  2020-12-02 12:01:00     7000.0  \n",
       "3           Baby      delivered  Infant Care  2020-12-02 12:08:00     7000.0  \n",
       "4           Baby      delivered  Infant Care  2020-12-02 12:08:00     7000.0  "
      ]
     },
     "execution_count": 6,
     "metadata": {},
     "output_type": "execute_result"
    }
   ],
   "source": [
    "#measures \n",
    "#ENtity order distribution,Unit price distribution, Order Frequency, delivery time analysis\n",
    "#category wise order,order channek distribution, time series analysis for orders quantity, \n",
    "#correlation analysis, delivery time vs orderby channel, weekly trends\n",
    "\n",
    "df.head()"
   ]
  },
  {
   "cell_type": "code",
   "execution_count": 12,
   "metadata": {},
   "outputs": [
    {
     "data": {
      "text/plain": [
       "5"
      ]
     },
     "execution_count": 12,
     "metadata": {},
     "output_type": "execute_result"
    }
   ],
   "source": [
    "df['Category Group'].nunique()"
   ]
  },
  {
   "cell_type": "code",
   "execution_count": 20,
   "metadata": {},
   "outputs": [
    {
     "data": {
      "image/png": "[encoded data removed]",
      "text/plain": [
       "<Figure size 432x288 with 1 Axes>"
      ]
     },
     "metadata": {
      "needs_background": "light"
     },
     "output_type": "display_data"
    }
   ],
   "source": [
    "#Order Quantity - using the quantity metrics\n",
    "\n",
    "plt.hist(df['Quantity'], bins =20, density=True, alpha=0.7)\n",
    "plt.title('Order Quantity Distribution')\n",
    "plt.xlabel('Quantity')\n",
    "plt.ylabel('Frequency')\n",
    "plt.show()"
   ]
  },
  {
   "cell_type": "code",
   "execution_count": 6,
   "metadata": {},
   "outputs": [
    {
     "data": {
      "image/png": "[encoded data removed]",
      "text/plain": [
       "<Figure size 432x288 with 1 Axes>"
      ]
     },
     "metadata": {
      "needs_background": "light"
     },
     "output_type": "display_data"
    }
   ],
   "source": [
    "#Order Quantity - using the quantity metrics\n",
    "\n",
    "plt.hist(df['Order Channel'], bins =5)\n",
    "plt.title('Order Quantity Distribution')\n",
    "plt.xlabel('Order Channel')\n",
    "plt.ylabel('Frequency')\n",
    "plt.show()"
   ]
  },
  {
   "cell_type": "code",
   "execution_count": 11,
   "metadata": {},
   "outputs": [
    {
     "data": {
      "image/png": "[encoded data removed]",
      "text/plain": [
       "<Figure size 432x288 with 1 Axes>"
      ]
     },
     "metadata": {
      "needs_background": "light"
     },
     "output_type": "display_data"
    }
   ],
   "source": [
    "#Unit Price Distribution\n",
    "\n",
    "plt.hist(df['Unit Price'], bins =20)\n",
    "plt.title('Unit Price Distribution')\n",
    "plt.xlabel('Unit Price')\n",
    "plt.ylabel('Frequency')\n",
    "plt.show()"
   ]
  },
  {
   "cell_type": "code",
   "execution_count": 17,
   "metadata": {},
   "outputs": [
    {
     "ename": "TypeError",
     "evalue": "Only valid with DatetimeIndex, TimedeltaIndex or PeriodIndex, but got an instance of 'Index'",
     "output_type": "error",
     "traceback": [
      "\u001b[0;31m---------------------------------------------------------------------------\u001b[0m",
      "\u001b[0;31mTypeError\u001b[0m                                 Traceback (most recent call last)",
      "\u001b[0;32m<ipython-input-17-e4cbecf2c09c>\u001b[0m in \u001b[0;36m<module>\u001b[0;34m\u001b[0m\n\u001b[1;32m      2\u001b[0m \u001b[0;34m\u001b[0m\u001b[0m\n\u001b[1;32m      3\u001b[0m \u001b[0;34m\u001b[0m\u001b[0m\n\u001b[0;32m----> 4\u001b[0;31m \u001b[0mDelivery_per_day\u001b[0m \u001b[0;34m=\u001b[0m \u001b[0mdf\u001b[0m\u001b[0;34m.\u001b[0m\u001b[0mresample\u001b[0m\u001b[0;34m(\u001b[0m\u001b[0;34m'W'\u001b[0m\u001b[0;34m)\u001b[0m\u001b[0;34m.\u001b[0m\u001b[0msize\u001b[0m\u001b[0;34m(\u001b[0m\u001b[0;34m)\u001b[0m\u001b[0;34m\u001b[0m\u001b[0;34m\u001b[0m\u001b[0m\n\u001b[0m\u001b[1;32m      5\u001b[0m \u001b[0;34m\u001b[0m\u001b[0m\n\u001b[1;32m      6\u001b[0m \u001b[0msns\u001b[0m\u001b[0;34m.\u001b[0m\u001b[0mlineplot\u001b[0m\u001b[0;34m(\u001b[0m\u001b[0mx\u001b[0m\u001b[0;34m=\u001b[0m\u001b[0mDelivery_per_day\u001b[0m\u001b[0;34m.\u001b[0m\u001b[0mindex\u001b[0m\u001b[0;34m,\u001b[0m \u001b[0my\u001b[0m\u001b[0;34m=\u001b[0m\u001b[0mDelivery_per_day\u001b[0m\u001b[0;34m.\u001b[0m\u001b[0mvalues\u001b[0m\u001b[0;34m)\u001b[0m\u001b[0;34m\u001b[0m\u001b[0;34m\u001b[0m\u001b[0m\n",
      "\u001b[0;32m/anaconda3/lib/python3.7/site-packages/pandas/core/generic.py\u001b[0m in \u001b[0;36mresample\u001b[0;34m(self, rule, how, axis, fill_method, closed, label, convention, kind, loffset, limit, base, on, level)\u001b[0m\n\u001b[1;32m   8449\u001b[0m             \u001b[0mbase\u001b[0m\u001b[0;34m=\u001b[0m\u001b[0mbase\u001b[0m\u001b[0;34m,\u001b[0m\u001b[0;34m\u001b[0m\u001b[0;34m\u001b[0m\u001b[0m\n\u001b[1;32m   8450\u001b[0m             \u001b[0mkey\u001b[0m\u001b[0;34m=\u001b[0m\u001b[0mon\u001b[0m\u001b[0;34m,\u001b[0m\u001b[0;34m\u001b[0m\u001b[0;34m\u001b[0m\u001b[0m\n\u001b[0;32m-> 8451\u001b[0;31m             \u001b[0mlevel\u001b[0m\u001b[0;34m=\u001b[0m\u001b[0mlevel\u001b[0m\u001b[0;34m,\u001b[0m\u001b[0;34m\u001b[0m\u001b[0;34m\u001b[0m\u001b[0m\n\u001b[0m\u001b[1;32m   8452\u001b[0m         )\n\u001b[1;32m   8453\u001b[0m         return _maybe_process_deprecations(\n",
      "\u001b[0;32m/anaconda3/lib/python3.7/site-packages/pandas/core/resample.py\u001b[0m in \u001b[0;36mresample\u001b[0;34m(obj, kind, **kwds)\u001b[0m\n\u001b[1;32m   1304\u001b[0m     \"\"\"\n\u001b[1;32m   1305\u001b[0m     \u001b[0mtg\u001b[0m \u001b[0;34m=\u001b[0m \u001b[0mTimeGrouper\u001b[0m\u001b[0;34m(\u001b[0m\u001b[0;34m**\u001b[0m\u001b[0mkwds\u001b[0m\u001b[0;34m)\u001b[0m\u001b[0;34m\u001b[0m\u001b[0;34m\u001b[0m\u001b[0m\n\u001b[0;32m-> 1306\u001b[0;31m     \u001b[0;32mreturn\u001b[0m \u001b[0mtg\u001b[0m\u001b[0;34m.\u001b[0m\u001b[0m_get_resampler\u001b[0m\u001b[0;34m(\u001b[0m\u001b[0mobj\u001b[0m\u001b[0;34m,\u001b[0m \u001b[0mkind\u001b[0m\u001b[0;34m=\u001b[0m\u001b[0mkind\u001b[0m\u001b[0;34m)\u001b[0m\u001b[0;34m\u001b[0m\u001b[0;34m\u001b[0m\u001b[0m\n\u001b[0m\u001b[1;32m   1307\u001b[0m \u001b[0;34m\u001b[0m\u001b[0m\n\u001b[1;32m   1308\u001b[0m \u001b[0;34m\u001b[0m\u001b[0m\n",
      "\u001b[0;32m/anaconda3/lib/python3.7/site-packages/pandas/core/resample.py\u001b[0m in \u001b[0;36m_get_resampler\u001b[0;34m(self, obj, kind)\u001b[0m\n\u001b[1;32m   1441\u001b[0m             \u001b[0;34m\"Only valid with DatetimeIndex, \"\u001b[0m\u001b[0;34m\u001b[0m\u001b[0;34m\u001b[0m\u001b[0m\n\u001b[1;32m   1442\u001b[0m             \u001b[0;34m\"TimedeltaIndex or PeriodIndex, \"\u001b[0m\u001b[0;34m\u001b[0m\u001b[0;34m\u001b[0m\u001b[0m\n\u001b[0;32m-> 1443\u001b[0;31m             \u001b[0;34m\"but got an instance of %r\"\u001b[0m \u001b[0;34m%\u001b[0m \u001b[0mtype\u001b[0m\u001b[0;34m(\u001b[0m\u001b[0max\u001b[0m\u001b[0;34m)\u001b[0m\u001b[0;34m.\u001b[0m\u001b[0m__name__\u001b[0m\u001b[0;34m\u001b[0m\u001b[0;34m\u001b[0m\u001b[0m\n\u001b[0m\u001b[1;32m   1444\u001b[0m         )\n\u001b[1;32m   1445\u001b[0m \u001b[0;34m\u001b[0m\u001b[0m\n",
      "\u001b[0;31mTypeError\u001b[0m: Only valid with DatetimeIndex, TimedeltaIndex or PeriodIndex, but got an instance of 'Index'"
     ]
    }
   ],
   "source": [
    "#Order Frequency over time\n",
    "\n",
    "\n",
    "Delivery_per_day = df.resample('W').size()\n",
    "\n",
    "sns.lineplot(x=Delivery_per_day.index, y=Delivery_per_day.values)\n",
    "plt.title('Order Frequency over time')\n",
    "plt.xlabel('Date')\n",
    "plt.ylabel('Number of Deliveries made')\n",
    "plt.show()"
   ]
  },
  {
   "cell_type": "code",
   "execution_count": 24,
   "metadata": {},
   "outputs": [
    {
     "name": "stdout",
     "output_type": "stream",
     "text": [
      "<class 'pandas.core.frame.DataFrame'>\n",
      "RangeIndex: 2046 entries, 0 to 2045\n",
      "Data columns (total 9 columns):\n",
      "Unnamed: 0        2046 non-null int64\n",
      "Order Channel     2046 non-null object\n",
      "Quantity          2046 non-null float64\n",
      "Unit Price        2046 non-null float64\n",
      "Customer Type     2046 non-null object\n",
      "Category Group    2046 non-null object\n",
      "shippingStatus    2046 non-null object\n",
      "Category          2046 non-null object\n",
      "Delivery Date     2046 non-null object\n",
      "dtypes: float64(2), int64(1), object(6)\n",
      "memory usage: 144.0+ KB\n"
     ]
    }
   ],
   "source": [
    "df.info()"
   ]
  },
  {
   "cell_type": "code",
   "execution_count": 4,
   "metadata": {},
   "outputs": [
    {
     "data": {
      "image/png": "[encoded data removed]",
      "text/plain": [
       "<Figure size 432x288 with 1 Axes>"
      ]
     },
     "metadata": {
      "needs_background": "light"
     },
     "output_type": "display_data"
    }
   ],
   "source": [
    "#orderchannel - seaborn\n",
    "\n",
    "order_channel_counts = df['Order Channel'].value_counts()\n",
    "\n",
    "sns.barplot(x=order_channel_counts.index, y=order_channel_counts.values)\n",
    "plt.title('Order Channels')\n",
    "plt.xlabel('Channels')\n",
    "plt.ylabel('Number of Orders')\n",
    "plt.show()"
   ]
  },
  {
   "cell_type": "code",
   "execution_count": 13,
   "metadata": {},
   "outputs": [
    {
     "data": {
      "image/png": "[encoded data removed]",
      "text/plain": [
       "<Figure size 432x288 with 1 Axes>"
      ]
     },
     "metadata": {
      "needs_background": "light"
     },
     "output_type": "display_data"
    }
   ],
   "source": [
    "#orderchannel Delivered - seaborn\n",
    "\n",
    "status_channel_counts = df['shippingStatus'].value_counts()\n",
    "\n",
    "sns.barplot(x=status_channel_counts.index, y=status_channel_counts.values)\n",
    "plt.title('Status')\n",
    "plt.xlabel('Shipping Status')\n",
    "plt.ylabel('Number of Orders')\n",
    "plt.show()"
   ]
  },
  {
   "cell_type": "code",
   "execution_count": 8,
   "metadata": {},
   "outputs": [
    {
     "data": {
      "image/png": "[encoded data removed]",
      "text/plain": [
       "<Figure size 432x288 with 1 Axes>"
      ]
     },
     "metadata": {},
     "output_type": "display_data"
    }
   ],
   "source": [
    "#orderchannel - matplot\n",
    "\n",
    "order_channel_counts = df['Order Channel'].value_counts()\n",
    "\n",
    "plt.pie(order_channel_counts, labels=order_channel_counts.index, autopct='%1.1f%%', startangle=90)\n",
    "plt.title('Order Channels')\n",
    "plt.show()"
   ]
  },
  {
   "cell_type": "code",
   "execution_count": 14,
   "metadata": {},
   "outputs": [
    {
     "data": {
      "image/png": "[encoded data removed]",
      "text/plain": [
       "<Figure size 432x288 with 1 Axes>"
      ]
     },
     "metadata": {
      "needs_background": "light"
     },
     "output_type": "display_data"
    }
   ],
   "source": [
    "order_category_group_counts = df['Category Group'].value_counts()\n",
    "\n",
    "sns.barplot(x=order_category_group_counts.index, y=order_category_group_counts.values)\n",
    "plt.title('Order by Category Group')\n",
    "plt.xlabel('Category Group')\n",
    "plt.ylabel('Number of Orders')\n",
    "plt.show()"
   ]
  },
  {
   "cell_type": "code",
   "execution_count": null,
   "metadata": {},
   "outputs": [],
   "source": []
  },
  {
   "cell_type": "code",
   "execution_count": null,
   "metadata": {},
   "outputs": [],
   "source": []
  },
  {
   "cell_type": "code",
   "execution_count": 15,
   "metadata": {},
   "outputs": [
    {
     "data": {
      "image/png": "[encoded data removed]",
      "text/plain": [
       "<Figure size 432x288 with 1 Axes>"
      ]
     },
     "metadata": {
      "needs_background": "light"
     },
     "output_type": "display_data"
    }
   ],
   "source": [
    "# class v / s fare barplot \n",
    "\n",
    "sns.barplot(y = 'Total_txn', x = 'Order Channel', hue = 'shippingStatus', data = df)\n",
    " \n",
    "# Show the plot\n",
    "plt.show()"
   ]
  },
  {
   "cell_type": "code",
   "execution_count": 19,
   "metadata": {},
   "outputs": [
    {
     "ename": "NameError",
     "evalue": "name 'Total_txn' is not defined",
     "output_type": "error",
     "traceback": [
      "\u001b[0;31m---------------------------------------------------------------------------\u001b[0m",
      "\u001b[0;31mNameError\u001b[0m                                 Traceback (most recent call last)",
      "\u001b[0;32m<ipython-input-19-ef0c4bf42ed4>\u001b[0m in \u001b[0;36m<module>\u001b[0;34m\u001b[0m\n\u001b[0;32m----> 1\u001b[0;31m \u001b[0mdf\u001b[0m\u001b[0;34m.\u001b[0m\u001b[0mgroupby\u001b[0m\u001b[0;34m(\u001b[0m\u001b[0;34m\"Order Channel\"\u001b[0m\u001b[0;34m)\u001b[0m\u001b[0;34m.\u001b[0m\u001b[0msum\u001b[0m\u001b[0;34m(\u001b[0m\u001b[0mTotal_txn\u001b[0m\u001b[0;34m)\u001b[0m\u001b[0;34m.\u001b[0m\u001b[0mmax\u001b[0m\u001b[0;34m(\u001b[0m\u001b[0;34m)\u001b[0m\u001b[0;34m\u001b[0m\u001b[0;34m\u001b[0m\u001b[0m\n\u001b[0m",
      "\u001b[0;31mNameError\u001b[0m: name 'Total_txn' is not defined"
     ]
    }
   ],
   "source": [
    "df.groupby(\"Order Channel\").shippingStatus.max()"
   ]
  },
  {
   "cell_type": "code",
   "execution_count": null,
   "metadata": {},
   "outputs": [],
   "source": []
  }
 ],
 "metadata": {
  "kernelspec": {
   "display_name": "Python 3",
   "language": "python",
   "name": "python3"
  },
  "language_info": {
   "codemirror_mode": {
    "name": "ipython",
    "version": 3
   },
   "file_extension": ".py",
   "mimetype": "text/x-python",
   "name": "python",
   "nbconvert_exporter": "python",
   "pygments_lexer": "ipython3",
   "version": "3.7.3"
  }
 },
 "nbformat": 4,
 "nbformat_minor": 2
}
